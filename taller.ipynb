{
 "cells": [
  {
   "cell_type": "code",
   "execution_count": 1,
   "metadata": {},
   "outputs": [
    {
     "name": "stdout",
     "output_type": "stream",
     "text": [
      "5\n"
     ]
    }
   ],
   "source": [
    "def sumar(a,b):\n",
    "    return a + b\n",
    "print(sumar(2,3))"
   ]
  },
  {
   "cell_type": "code",
   "execution_count": 1,
   "metadata": {},
   "outputs": [
    {
     "name": "stdout",
     "output_type": "stream",
     "text": [
      "7\n",
      "2\n",
      "2.0\n",
      "10\n",
      "3.605551275463989\n"
     ]
    }
   ],
   "source": [
    "import modulo_funciones\n",
    "\n",
    "from modulo_funciones import sumar, restar, dividir, multiplicar\n",
    "from algebra import distancia\n",
    "print(sumar(3,4))\n",
    "print(restar(4,2))\n",
    "print(dividir(4,2))\n",
    "print(multiplicar(5,2))\n",
    "print(distancia(1,2,3,5))"
   ]
  }
 ],
 "metadata": {
  "kernelspec": {
   "display_name": "Python 3",
   "language": "python",
   "name": "python3"
  },
  "language_info": {
   "codemirror_mode": {
    "name": "ipython",
    "version": 3
   },
   "file_extension": ".py",
   "mimetype": "text/x-python",
   "name": "python",
   "nbconvert_exporter": "python",
   "pygments_lexer": "ipython3",
   "version": "3.10.4"
  },
  "orig_nbformat": 4
 },
 "nbformat": 4,
 "nbformat_minor": 2
}
